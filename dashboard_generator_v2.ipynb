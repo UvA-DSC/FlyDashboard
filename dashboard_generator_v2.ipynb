{
 "cells": [
  {
   "cell_type": "markdown",
   "id": "deb96e3f",
   "metadata": {
    "extensions": {
     "jupyter_dashboards": {
      "version": 1,
      "views": {
       "grid_default": {},
       "report_default": {
        "hidden": false
       }
      }
     }
    }
   },
   "source": [
    "# Creating a Dashboard"
   ]
  },
  {
   "cell_type": "code",
   "execution_count": 22,
   "id": "b3f5579c",
   "metadata": {
    "extensions": {
     "jupyter_dashboards": {
      "version": 1,
      "views": {
       "grid_default": {},
       "report_default": {
        "hidden": true
       }
      }
     }
    }
   },
   "outputs": [],
   "source": [
    "%matplotlib inline"
   ]
  },
  {
   "cell_type": "code",
   "execution_count": 186,
   "id": "f46acb6a",
   "metadata": {
    "extensions": {
     "jupyter_dashboards": {
      "version": 1,
      "views": {
       "grid_default": {},
       "report_default": {
        "hidden": true
       }
      }
     }
    }
   },
   "outputs": [
    {
     "name": "stderr",
     "output_type": "stream",
     "text": [
      "[nltk_data] Downloading package stopwords to /Users/clau/nltk_data...\n",
      "[nltk_data]   Package stopwords is already up-to-date!\n",
      "[nltk_data] Downloading package punkt to /Users/clau/nltk_data...\n",
      "[nltk_data]   Package punkt is already up-to-date!\n"
     ]
    }
   ],
   "source": [
    "import pandas as pd\n",
    "pd.set_option('display.max_colwidth', None)\n",
    "import seaborn as sns\n",
    "from ipywidgets import interact\n",
    "import spacy\n",
    "from spacytextblob.spacytextblob import SpacyTextBlob\n",
    "from wordcloud import WordCloud\n",
    "import matplotlib.pyplot as plt\n",
    "import nltk\n",
    "from nltk.corpus import stopwords\n",
    "nltk.download('stopwords')\n",
    "nltk.download('punkt')\n",
    "from nltk.tokenize import word_tokenize\n",
    "from nltk.tokenize import RegexpTokenizer"
   ]
  },
  {
   "cell_type": "code",
   "execution_count": 246,
   "id": "612f7db7",
   "metadata": {
    "extensions": {
     "jupyter_dashboards": {
      "version": 1,
      "views": {
       "grid_default": {},
       "report_default": {
        "hidden": false
       }
      }
     }
    }
   },
   "outputs": [],
   "source": [
    "tweets = pd.read_json('climate_fly_2019.json', lines=True)"
   ]
  },
  {
   "cell_type": "code",
   "execution_count": 247,
   "id": "4d9ab332",
   "metadata": {
    "extensions": {
     "jupyter_dashboards": {
      "version": 1,
      "views": {
       "grid_default": {},
       "report_default": {
        "hidden": true
       }
      }
     }
    }
   },
   "outputs": [],
   "source": [
    "tweets[['created1', 'created2']] = tweets['created_at'].astype(str).str.split(' ', 0, expand=True)"
   ]
  },
  {
   "cell_type": "code",
   "execution_count": 248,
   "id": "dec87f5b",
   "metadata": {
    "extensions": {
     "jupyter_dashboards": {
      "version": 1,
      "views": {
       "grid_default": {},
       "report_default": {
        "hidden": true
       }
      }
     }
    }
   },
   "outputs": [],
   "source": [
    "tweets = tweets.drop(['created_at', 'created2'], axis=1)"
   ]
  },
  {
   "cell_type": "code",
   "execution_count": 288,
   "id": "e4fe76be",
   "metadata": {
    "extensions": {
     "jupyter_dashboards": {
      "version": 1,
      "views": {
       "grid_default": {},
       "report_default": {
        "hidden": true
       }
      }
     }
    }
   },
   "outputs": [],
   "source": [
    "tweets = tweets.rename(columns={'created1':'created_at'})"
   ]
  },
  {
   "cell_type": "code",
   "execution_count": 289,
   "id": "746e5956",
   "metadata": {
    "extensions": {
     "jupyter_dashboards": {
      "version": 1,
      "views": {
       "grid_default": {},
       "report_default": {
        "hidden": false
       }
      }
     }
    }
   },
   "outputs": [],
   "source": [
    "#tweets.head(2)"
   ]
  },
  {
   "cell_type": "code",
   "execution_count": 290,
   "id": "8814f57c",
   "metadata": {
    "extensions": {
     "jupyter_dashboards": {
      "version": 1,
      "views": {
       "grid_default": {},
       "report_default": {
        "hidden": true
       }
      }
     }
    }
   },
   "outputs": [],
   "source": [
    "smaller_set = tweets[[\"created_at\", \"lang\",'text',\"source\",\"retweet_count\",'likes','quote_count','reply_count']]\n",
    "smaller_set = smaller_set[smaller_set['lang'].isin(['en', 'es', 'fr', 'sv'])]\n",
    "smaller_set = smaller_set[smaller_set['source'].isin(['Twitter for Android', 'Twitter for iPhone', 'Twitter for Web App', 'Twitter Web Client'])]\n",
    "#smaller_set.head(2)"
   ]
  },
  {
   "cell_type": "code",
   "execution_count": 276,
   "id": "06c6ee1d",
   "metadata": {
    "extensions": {
     "jupyter_dashboards": {
      "version": 1,
      "views": {
       "grid_default": {},
       "report_default": {
        "hidden": true
       }
      }
     }
    }
   },
   "outputs": [],
   "source": [
    "def remove_stopwords(sentence):\n",
    "    tokenizer = RegexpTokenizer(r'\\w+')\n",
    "    no_punct = tokenizer.tokenize(sentence)\n",
    "    sentence =' '.join([i for i in no_punct])\n",
    "    stop_words = set(stopwords.words('english'))\n",
    "    stop_words.add('https')\n",
    "    stop_words.add('t co')\n",
    "    stop_words.add('RT')\n",
    "    stop_words.add('co')\n",
    "    #print(stop_words)\n",
    "    word_tokens = word_tokenize(sentence)\n",
    "    filtered_sentence = [w for w in word_tokens if not w.lower() in stop_words]\n",
    "    filtered_sentence = []\n",
    "    for w in word_tokens:\n",
    "        if w not in stop_words:\n",
    "            filtered_sentence.append(w)\n",
    "    filtered_sentence =' '.join([i for i in filtered_sentence])\n",
    "    return filtered_sentence"
   ]
  },
  {
   "cell_type": "code",
   "execution_count": 277,
   "id": "d74a002e",
   "metadata": {
    "extensions": {
     "jupyter_dashboards": {
      "version": 1,
      "views": {
       "grid_default": {},
       "report_default": {
        "hidden": true
       }
      }
     }
    }
   },
   "outputs": [],
   "source": [
    "full_text=' '.join([i for i in tweets['text']])\n",
    "#print(full_text)"
   ]
  },
  {
   "cell_type": "code",
   "execution_count": 278,
   "id": "e4e5ac45",
   "metadata": {
    "extensions": {
     "jupyter_dashboards": {
      "version": 1,
      "views": {
       "grid_default": {},
       "report_default": {
        "hidden": true
       }
      }
     }
    }
   },
   "outputs": [],
   "source": [
    "#remove stopwords\n",
    "cleaned_sentence = remove_stopwords(full_text)\n",
    "#print(cleaned_sentence)"
   ]
  },
  {
   "cell_type": "code",
   "execution_count": 280,
   "id": "1732a0cc",
   "metadata": {
    "extensions": {
     "jupyter_dashboards": {
      "version": 1,
      "views": {
       "grid_default": {},
       "report_default": {
        "hidden": false
       }
      }
     }
    }
   },
   "outputs": [
    {
     "data": {
      "image/png": "[encoded data removed]",
      "text/plain": [
       "<Figure size 432x288 with 1 Axes>"
      ]
     },
     "metadata": {
      "needs_background": "light"
     },
     "output_type": "display_data"
    }
   ],
   "source": [
    "wordcloud = WordCloud().generate(cleaned_sentence)\n",
    "# take relative word frequencies into account, lower max_font_size\n",
    "wordcloud = WordCloud(background_color=\"white\",max_words=len(cleaned_sentence),max_font_size=80, relative_scaling=.7).generate(cleaned_sentence)\n",
    "plt.figure()\n",
    "plt.imshow(wordcloud)\n",
    "plt.axis(\"off\")\n",
    "plt.show()"
   ]
  },
  {
   "cell_type": "code",
   "execution_count": 292,
   "id": "82512912",
   "metadata": {
    "extensions": {
     "jupyter_dashboards": {
      "version": 1,
      "views": {
       "grid_default": {},
       "report_default": {
        "hidden": false
       }
      }
     }
    }
   },
   "outputs": [
    {
     "data": {
      "application/vnd.jupyter.widget-view+json": {
       "model_id": "bbfb6318036342f2ba4b44b4b9c90eb5",
       "version_major": 2,
       "version_minor": 0
      },
      "text/plain": [
       "interactive(children=(Dropdown(description='hue', options=('lang', 'source'), value='lang'), Output()), _dom_c…"
      ]
     },
     "metadata": {},
     "output_type": "display_data"
    }
   ],
   "source": [
    "@interact(hue=['lang','source'])\n",
    "def plot(hue):\n",
    "    _ = sns.pairplot(smaller_set,hue=hue)"
   ]
  },
  {
   "cell_type": "code",
   "execution_count": 293,
   "id": "fe0faa1c",
   "metadata": {
    "extensions": {
     "jupyter_dashboards": {
      "version": 1,
      "views": {
       "grid_default": {},
       "report_default": {
        "hidden": false
       }
      }
     }
    }
   },
   "outputs": [],
   "source": [
    "smaller_set_with_terms = smaller_set"
   ]
  },
  {
   "cell_type": "code",
   "execution_count": 294,
   "id": "c750fd18",
   "metadata": {
    "extensions": {
     "jupyter_dashboards": {
      "version": 1,
      "views": {
       "grid_default": {},
       "report_default": {
        "hidden": true
       }
      }
     }
    }
   },
   "outputs": [],
   "source": [
    "smaller_set_with_terms['private_jet'] = smaller_set_with_terms['text'].str.contains('private jet')\n",
    "smaller_set_with_terms['minister_matt'] = smaller_set_with_terms['text'].str.contains('minister matt')\n",
    "smaller_set_with_terms['climate_conference'] = smaller_set_with_terms['text'].str.contains('climate conference')\n",
    "smaller_set_with_terms['climate_change'] = smaller_set_with_terms['text'].str.contains('climate change')"
   ]
  },
  {
   "cell_type": "code",
   "execution_count": 295,
   "id": "fa24a09c",
   "metadata": {
    "extensions": {
     "jupyter_dashboards": {
      "version": 1,
      "views": {
       "grid_default": {},
       "report_default": {
        "hidden": false
       }
      }
     }
    },
    "scrolled": false
   },
   "outputs": [
    {
     "data": {
      "application/vnd.jupyter.widget-view+json": {
       "model_id": "4392e7b57ec24c84a921ac97c5b032ed",
       "version_major": 2,
       "version_minor": 0
      },
      "text/plain": [
       "interactive(children=(Dropdown(description='hue', options=('private_jet',), value='private_jet'), Output()), _…"
      ]
     },
     "metadata": {},
     "output_type": "display_data"
    }
   ],
   "source": [
    "@interact(hue=['private_jet'])\n",
    "def plot(hue):\n",
    "    _ = sns.pairplot(smaller_set_with_terms[[\"retweet_count\",'likes','private_jet','quote_count','reply_count']],hue=hue)"
   ]
  },
  {
   "cell_type": "code",
   "execution_count": 296,
   "id": "124e0bff",
   "metadata": {
    "extensions": {
     "jupyter_dashboards": {
      "version": 1,
      "views": {
       "grid_default": {},
       "report_default": {
        "hidden": false
       }
      }
     }
    }
   },
   "outputs": [
    {
     "data": {
      "application/vnd.jupyter.widget-view+json": {
       "model_id": "9622fe34ff8046dd8091d343c2eb7f80",
       "version_major": 2,
       "version_minor": 0
      },
      "text/plain": [
       "interactive(children=(Dropdown(description='hue', options=('climate_conference',), value='climate_conference')…"
      ]
     },
     "metadata": {},
     "output_type": "display_data"
    }
   ],
   "source": [
    "@interact(hue=['climate_conference'])\n",
    "def plot(hue):\n",
    "    _ = sns.pairplot(smaller_set_with_terms[[\"retweet_count\",'likes','climate_conference','quote_count','reply_count']],hue=hue)"
   ]
  },
  {
   "cell_type": "code",
   "execution_count": 297,
   "id": "75e9c5a9",
   "metadata": {
    "extensions": {
     "jupyter_dashboards": {
      "version": 1,
      "views": {
       "grid_default": {},
       "report_default": {
        "hidden": true
       }
      }
     }
    }
   },
   "outputs": [
    {
     "data": {
      "application/vnd.jupyter.widget-view+json": {
       "model_id": "924d88e6069b4bbebb9016061c54cd86",
       "version_major": 2,
       "version_minor": 0
      },
      "text/plain": [
       "interactive(children=(Dropdown(description='hue', options=('climate_change',), value='climate_change'), Output…"
      ]
     },
     "metadata": {},
     "output_type": "display_data"
    }
   ],
   "source": [
    "@interact(hue=['climate_change'])\n",
    "def plot(hue):\n",
    "    _ = sns.pairplot(smaller_set_with_terms[[\"retweet_count\",'likes','climate_change','quote_count','reply_count']],hue=hue)"
   ]
  },
  {
   "cell_type": "code",
   "execution_count": null,
   "id": "a5e47b29",
   "metadata": {
    "extensions": {
     "jupyter_dashboards": {
      "version": 1,
      "views": {
       "grid_default": {},
       "report_default": {
        "hidden": true
       }
      }
     }
    }
   },
   "outputs": [],
   "source": []
  }
 ],
 "metadata": {
  "extensions": {
   "jupyter_dashboards": {
    "activeView": "report_default",
    "version": 1,
    "views": {
     "grid_default": {
      "cellMargin": 10,
      "defaultCellHeight": 20,
      "maxColumns": 12,
      "name": "grid",
      "type": "grid"
     },
     "report_default": {
      "name": "report",
      "type": "report"
     }
    }
   }
  },
  "kernelspec": {
   "display_name": "Python 3 (ipykernel)",
   "language": "python",
   "name": "python3"
  },
  "language_info": {
   "codemirror_mode": {
    "name": "ipython",
    "version": 3
   },
   "file_extension": ".py",
   "mimetype": "text/x-python",
   "name": "python",
   "nbconvert_exporter": "python",
   "pygments_lexer": "ipython3",
   "version": "3.9.6"
  },
  "toc": {
   "base_numbering": 1,
   "nav_menu": {},
   "number_sections": true,
   "sideBar": true,
   "skip_h1_title": false,
   "title_cell": "Table of Contents",
   "title_sidebar": "Contents",
   "toc_cell": false,
   "toc_position": {},
   "toc_section_display": true,
   "toc_window_display": false
  }
 },
 "nbformat": 4,
 "nbformat_minor": 5
}
